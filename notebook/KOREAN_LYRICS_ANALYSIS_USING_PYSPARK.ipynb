{
 "cells": [
  {
   "cell_type": "code",
   "execution_count": 50,
   "metadata": {
    "collapsed": true
   },
   "outputs": [],
   "source": [
    "from pyspark import SparkConf, SparkContext\n",
    "from pyspark.sql import SparkSession\n",
    "import pandas as pd\n",
    "import numpy as np\n",
    "from customTransformer import KonlpTokenizer\n",
    "from pyspark.ml.feature import CountVectorizer\n",
    "\n",
    "from pyspark.sql.functions import *\n",
    "from pyspark.ml.feature import IDF\n",
    "from pyspark.ml.clustering import LDA\n",
    "\n",
    "from pyspark.sql.types import ArrayType, StringType, FloatType, IntegerType"
   ]
  },
  {
   "cell_type": "code",
   "execution_count": 2,
   "metadata": {
    "collapsed": true
   },
   "outputs": [],
   "source": [
    "conf = SparkConf()\n",
    "sc = SparkContext(conf=conf)\n",
    "spark = SparkSession.builder.appName(\"korean lyric analysis\").getOrCreate()"
   ]
  },
  {
   "cell_type": "code",
   "execution_count": 3,
   "metadata": {
    "collapsed": true
   },
   "outputs": [],
   "source": [
    "df = spark.read\\\n",
    ".format(\"com.databricks.spark.csv\")\\\n",
    ".option(\"header\", \"true\")\\\n",
    ".option(\"inferSchema\", \"true\")\\\n",
    ".load(\"lyric_ko_pre.csv\")"
   ]
  },
  {
   "cell_type": "code",
   "execution_count": 4,
   "metadata": {
    "collapsed": false
   },
   "outputs": [
    {
     "name": "stdout",
     "output_type": "stream",
     "text": [
      "+--------------------+-----------+--------------------+\n",
      "|               title|     artist|               lyric|\n",
      "+--------------------+-----------+--------------------+\n",
      "|             그때 또 다시|         유노|돌이켜보면 너같은 사람 나에게 ...|\n",
      "|      Love Love Love|선비(SunBee..|Are you there my ...|\n",
      "|Butterfly (Prod. ...|  LambC(램씨)|There is a time t...|\n",
      "+--------------------+-----------+--------------------+\n",
      "only showing top 3 rows\n",
      "\n"
     ]
    }
   ],
   "source": [
    "df.show(3)"
   ]
  },
  {
   "cell_type": "code",
   "execution_count": 5,
   "metadata": {
    "collapsed": false
   },
   "outputs": [
    {
     "data": {
      "text/plain": [
       "78036"
      ]
     },
     "execution_count": 5,
     "metadata": {},
     "output_type": "execute_result"
    }
   ],
   "source": [
    "df.count()"
   ]
  },
  {
   "cell_type": "code",
   "execution_count": 6,
   "metadata": {
    "collapsed": true
   },
   "outputs": [],
   "source": [
    "tokenizer = KonlpTokenizer(inputCol=\"lyric\", outputCol=\"words\")"
   ]
  },
  {
   "cell_type": "code",
   "execution_count": 7,
   "metadata": {
    "collapsed": true
   },
   "outputs": [],
   "source": [
    "tokensDF = tokenizer.transform(df)"
   ]
  },
  {
   "cell_type": "code",
   "execution_count": 12,
   "metadata": {
    "collapsed": false
   },
   "outputs": [],
   "source": [
    "tokensDF = tokensDF.filter(size(col(\"words\")) > 3).cache()"
   ]
  },
  {
   "cell_type": "code",
   "execution_count": 13,
   "metadata": {
    "collapsed": false
   },
   "outputs": [],
   "source": [
    "vectorizer = CountVectorizer(inputCol=\"words\", outputCol=\"rawFeatures\")\n",
    "cvmodel = vectorizer.fit(tokensDF)\n",
    "featurizedData = cvmodel.transform(tokensDF)\n",
    "\n",
    "vocab = cvmodel.vocabulary\n",
    "vocab_broadcast = sc.broadcast(vocab)"
   ]
  },
  {
   "cell_type": "code",
   "execution_count": 14,
   "metadata": {
    "collapsed": false
   },
   "outputs": [
    {
     "data": {
      "text/plain": [
       "81288"
      ]
     },
     "execution_count": 14,
     "metadata": {},
     "output_type": "execute_result"
    }
   ],
   "source": [
    "len(vocab)"
   ]
  },
  {
   "cell_type": "code",
   "execution_count": 15,
   "metadata": {
    "collapsed": true
   },
   "outputs": [],
   "source": [
    "idf = IDF(inputCol=\"rawFeatures\", outputCol=\"features\")\n",
    "idfModel = idf.fit(featurizedData)\n",
    "rescaledData = idfModel.transform(featurizedData)"
   ]
  },
  {
   "cell_type": "code",
   "execution_count": 20,
   "metadata": {
    "collapsed": true
   },
   "outputs": [],
   "source": [
    "lda = LDA(k=5, seed=123, optimizer=\"em\", featuresCol=\"features\")\n",
    "\n",
    "ldamodel = lda.fit(rescaledData)\n",
    "ldatopics = ldamodel.describeTopics()"
   ]
  },
  {
   "cell_type": "code",
   "execution_count": 21,
   "metadata": {
    "collapsed": true
   },
   "outputs": [],
   "source": [
    "def map_termID_to_Word(termIndices):\n",
    "    words = []\n",
    "    for termID in termIndices:\n",
    "        words.append(vocab_broadcast.value[termID])\n",
    "    \n",
    "    return words"
   ]
  },
  {
   "cell_type": "code",
   "execution_count": 22,
   "metadata": {
    "collapsed": false
   },
   "outputs": [
    {
     "name": "stdout",
     "output_type": "stream",
     "text": [
      "+-----+-----------------------------------------+\n",
      "|topic|topic_desc                               |\n",
      "+-----+-----------------------------------------+\n",
      "|0    |[그대, 사랑, 다시, 시간, 우리, 눈물, 없는, 내게, 기억, 사람] |\n",
      "|1    |[오늘, 너무, 우리, 그냥, 싶어, 같은, 지금, 있어, 그대, 몰라] |\n",
      "|2    |[그대, 사랑, 사랑해, 눈물, 당신, 사람, 나를, 마음, 다시, 없는]|\n",
      "|3    |[예뻐, 모두, 인생, 없어, 우린, 여자, 오늘, 그냥, 지금, 이제] |\n",
      "|4    |[주님, 사랑, 노래, 당신, 세상, 주의, 그대, 우리, 하나님, 하늘]|\n",
      "+-----+-----------------------------------------+\n",
      "\n"
     ]
    }
   ],
   "source": [
    "udf_map_termID_to_Word = udf(map_termID_to_Word , ArrayType(StringType()))\n",
    "ldatopics_mapped = ldatopics.withColumn(\"topic_desc\", udf_map_termID_to_Word(ldatopics.termIndices))\n",
    "ldatopics_mapped.select(ldatopics_mapped.topic, ldatopics_mapped.topic_desc).show(50,False)"
   ]
  },
  {
   "cell_type": "code",
   "execution_count": 23,
   "metadata": {
    "collapsed": true
   },
   "outputs": [],
   "source": [
    "ldaResults = ldamodel.transform(rescaledData)"
   ]
  },
  {
   "cell_type": "code",
   "execution_count": 24,
   "metadata": {
    "collapsed": false
   },
   "outputs": [],
   "source": [
    "def breakout_array(index_number, record):\n",
    "    vectorlist = record.tolist()\n",
    "    return vectorlist[index_number]\n",
    "\n",
    "udf_breakout_array = udf(breakout_array, FloatType())"
   ]
  },
  {
   "cell_type": "code",
   "execution_count": 68,
   "metadata": {
    "collapsed": false
   },
   "outputs": [
    {
     "name": "stdout",
     "output_type": "stream",
     "text": [
      "+--------------------+--------------------+\n",
      "|               title|   topicDistribution|\n",
      "+--------------------+--------------------+\n",
      "|             그때 또 다시|[0.18073939857700...|\n",
      "|      Love Love Love|[0.34864345792893...|\n",
      "|            GOOD BAD|[0.25979247691762...|\n",
      "|             너무 원했기에|[0.37514571741299...|\n",
      "|               이별중이야|[0.60426807783482...|\n",
      "|                Time|[0.26737701644818...|\n",
      "|우유부단 (Prod. by K ...|[0.13485250946308...|\n",
      "|  기억이 난다 (Feat. 강슬기)|[0.19592398153157...|\n",
      "|                  그냥|[0.21556569050354...|\n",
      "|                  이유|[0.10228298743847...|\n",
      "|               그대이기에|[0.39238697832568...|\n",
      "|                Dawn|[0.14727578965663...|\n",
      "|party (SHUT DOWN)...|[0.36854286068614...|\n",
      "|               그렇게 또|[0.22076263620240...|\n",
      "|                 매화향|[0.15274717539087...|\n",
      "| 어디로 가나요 (Feat. 신지윤)|[0.07603512771547...|\n",
      "|               데이트할까|[0.12788500930243...|\n",
      "|             Show Me|[0.30439044678478...|\n",
      "| Save me (Feat. 김환수)|[0.27919822092340...|\n",
      "|            시간이 춤을 춰|[0.21120454101908...|\n",
      "+--------------------+--------------------+\n",
      "only showing top 20 rows\n",
      "\n"
     ]
    }
   ],
   "source": [
    "ldaResults.select(\"title\", \"topicDistribution\").show()"
   ]
  },
  {
   "cell_type": "code",
   "execution_count": 25,
   "metadata": {
    "collapsed": false
   },
   "outputs": [],
   "source": [
    "enrichedData = ldaResults\\\n",
    ".withColumn(\"Topic_0\", udf_breakout_array(lit(0), ldaResults.topicDistribution))\\\n",
    ".withColumn(\"Topic_1\", udf_breakout_array(lit(1), ldaResults.topicDistribution))\\\n",
    ".withColumn(\"Topic_2\", udf_breakout_array(lit(2), ldaResults.topicDistribution))\\\n",
    ".withColumn(\"Topic_3\", udf_breakout_array(lit(3), ldaResults.topicDistribution))\\\n",
    ".withColumn(\"Topic_4\", udf_breakout_array(lit(4), ldaResults.topicDistribution))"
   ]
  },
  {
   "cell_type": "code",
   "execution_count": 26,
   "metadata": {
    "collapsed": false
   },
   "outputs": [],
   "source": [
    "enrichedData.createOrReplaceTempView(\"enrichedData\")"
   ]
  },
  {
   "cell_type": "code",
   "execution_count": 35,
   "metadata": {
    "collapsed": true
   },
   "outputs": [],
   "source": [
    "res = spark.sql(\"SELECT COUNT(*) as TOPIC2 FROM ENRICHEDDATA WHERE TOPIC_2 >= 0.5\")"
   ]
  },
  {
   "cell_type": "code",
   "execution_count": 24,
   "metadata": {
    "collapsed": true
   },
   "outputs": [],
   "source": [
    "res = spark.sql(\"SELECT TITLE, TOPIC_5 FROM ENRICHEDDATA WHERE TOPIC_5 >= 0.25 ORDER BY TOPIC_5 DESC\")"
   ]
  },
  {
   "cell_type": "code",
   "execution_count": 69,
   "metadata": {
    "collapsed": false
   },
   "outputs": [
    {
     "name": "stdout",
     "output_type": "stream",
     "text": [
      "+------+\n",
      "|TOPIC2|\n",
      "+------+\n",
      "|20814 |\n",
      "+------+\n",
      "\n"
     ]
    }
   ],
   "source": [
    "res.show(10, False)"
   ]
  },
  {
   "cell_type": "code",
   "execution_count": 77,
   "metadata": {
    "collapsed": false
   },
   "outputs": [],
   "source": [
    "getMainTopicIdx = udf(lambda l: int(np.argmax([float(x) for x in l])), IntegerType())"
   ]
  },
  {
   "cell_type": "code",
   "execution_count": 78,
   "metadata": {
    "collapsed": false
   },
   "outputs": [],
   "source": [
    "countTopDocs = (ldaResults\n",
    "                .select(getMainTopicIdx(\"topicDistribution\").alias(\"idxMainTopic\"))\n",
    "                .groupBy(\"idxMainTopic\").count().sort(\"idxMainTopic\"))"
   ]
  },
  {
   "cell_type": "code",
   "execution_count": 79,
   "metadata": {
    "collapsed": false
   },
   "outputs": [
    {
     "name": "stdout",
     "output_type": "stream",
     "text": [
      "+------------+-----+\n",
      "|idxMainTopic|count|\n",
      "+------------+-----+\n",
      "|           0|18542|\n",
      "|           1| 9596|\n",
      "|           2|14526|\n",
      "|           3| 8552|\n",
      "|           4| 9465|\n",
      "+------------+-----+\n",
      "\n"
     ]
    }
   ],
   "source": [
    "countTopDocs.show()"
   ]
  },
  {
   "cell_type": "code",
   "execution_count": 87,
   "metadata": {
    "collapsed": true
   },
   "outputs": [],
   "source": [
    "cluster_lda = ldaResults.withColumn(\"cluster\", getMainTopicIdx(\"topicDistribution\"))"
   ]
  },
  {
   "cell_type": "code",
   "execution_count": 139,
   "metadata": {
    "collapsed": false
   },
   "outputs": [],
   "source": [
    "getMainTopicWeight = udf(lambda l: float(max([float(x) for x in l]) * 10), FloatType())\n",
    "clusterdf = cluster_lda\\\n",
    ".select(\"title\", \"artist\", \"lyric\", \"cluster\", getMainTopicValue(\"topicDistribution\").alias(\"weight\"))\\\n",
    ".toPandas()"
   ]
  },
  {
   "cell_type": "code",
   "execution_count": 143,
   "metadata": {
    "collapsed": false
   },
   "outputs": [
    {
     "data": {
      "text/plain": [
       "title      60681\n",
       "artist     60681\n",
       "lyric      60681\n",
       "cluster    60681\n",
       "weight     60681\n",
       "dtype: int64"
      ]
     },
     "execution_count": 143,
     "metadata": {},
     "output_type": "execute_result"
    }
   ],
   "source": [
    "clusterdf.count()"
   ]
  },
  {
   "cell_type": "code",
   "execution_count": 142,
   "metadata": {
    "collapsed": true
   },
   "outputs": [],
   "source": [
    "clusterdf.to_csv(\"LDAcluster.csv\", header=True, index=False)"
   ]
  },
  {
   "cell_type": "code",
   "execution_count": null,
   "metadata": {
    "collapsed": true
   },
   "outputs": [],
   "source": []
  }
 ],
 "metadata": {
  "anaconda-cloud": {},
  "kernelspec": {
   "display_name": "Python [conda root]",
   "language": "python",
   "name": "conda-root-py"
  },
  "language_info": {
   "codemirror_mode": {
    "name": "ipython",
    "version": 3
   },
   "file_extension": ".py",
   "mimetype": "text/x-python",
   "name": "python",
   "nbconvert_exporter": "python",
   "pygments_lexer": "ipython3",
   "version": "3.5.2"
  }
 },
 "nbformat": 4,
 "nbformat_minor": 2
}
